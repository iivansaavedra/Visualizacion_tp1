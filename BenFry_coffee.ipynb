{
  "nbformat": 4,
  "nbformat_minor": 0,
  "metadata": {
    "colab": {
      "provenance": []
    },
    "kernelspec": {
      "name": "python3",
      "display_name": "Python 3"
    },
    "language_info": {
      "name": "python"
    }
  },
  "cells": [
    {
      "cell_type": "markdown",
      "source": [
        "# 📌 1️⃣ Adquisición de Datos\n",
        "\n",
        " Objetivo: Obtener y cargar el dataset que usaremos en el proyecto.\n",
        " En este caso, trabajaremos con el dataset de ventas de café de Kaggle:\n",
        " https://www.kaggle.com/datasets/navjotkaushal/coffee-sales-dataset\n",
        "\n",
        "1) Importación de librerías necesarias\n",
        "2) Carga del dataset (ya descargado como Coffe_sales.csv)\n",
        "3) Vista inicial de los datos\n",
        "\n",
        "\n",
        "\n",
        "\n"
      ],
      "metadata": {
        "id": "9KKIqamgfvqv"
      }
    },
    {
      "cell_type": "code",
      "source": [
        "import pandas as pd\n",
        "import numpy as np\n",
        "import matplotlib.pyplot as plt\n",
        "import seaborn as sns\n",
        "import os, glob\n",
        "df = pd.read_csv(\"/content/drive/MyDrive/informatica/Coffe_sales.csv\")\n",
        "df.head()"
      ],
      "metadata": {
        "colab": {
          "base_uri": "https://localhost:8080/",
          "height": 207
        },
        "id": "_4amGeakf5Ro",
        "outputId": "511133a9-2fc5-4d6b-cb44-ae3f2356909e"
      },
      "execution_count": 1,
      "outputs": [
        {
          "output_type": "execute_result",
          "data": {
            "text/plain": [
              "   hour_of_day cash_type  money    coffee_name Time_of_Day Weekday Month_name  \\\n",
              "0           10      card   38.7          Latte     Morning     Fri        Mar   \n",
              "1           12      card   38.7  Hot Chocolate   Afternoon     Fri        Mar   \n",
              "2           12      card   38.7  Hot Chocolate   Afternoon     Fri        Mar   \n",
              "3           13      card   28.9      Americano   Afternoon     Fri        Mar   \n",
              "4           13      card   38.7          Latte   Afternoon     Fri        Mar   \n",
              "\n",
              "   Weekdaysort  Monthsort        Date             Time  \n",
              "0            5          3  2024-03-01  10:15:50.520000  \n",
              "1            5          3  2024-03-01  12:19:22.539000  \n",
              "2            5          3  2024-03-01  12:20:18.089000  \n",
              "3            5          3  2024-03-01  13:46:33.006000  \n",
              "4            5          3  2024-03-01  13:48:14.626000  "
            ],
            "text/html": [
              "\n",
              "  <div id=\"df-e7cb8817-64d7-4ce0-88c5-eabf1144df95\" class=\"colab-df-container\">\n",
              "    <div>\n",
              "<style scoped>\n",
              "    .dataframe tbody tr th:only-of-type {\n",
              "        vertical-align: middle;\n",
              "    }\n",
              "\n",
              "    .dataframe tbody tr th {\n",
              "        vertical-align: top;\n",
              "    }\n",
              "\n",
              "    .dataframe thead th {\n",
              "        text-align: right;\n",
              "    }\n",
              "</style>\n",
              "<table border=\"1\" class=\"dataframe\">\n",
              "  <thead>\n",
              "    <tr style=\"text-align: right;\">\n",
              "      <th></th>\n",
              "      <th>hour_of_day</th>\n",
              "      <th>cash_type</th>\n",
              "      <th>money</th>\n",
              "      <th>coffee_name</th>\n",
              "      <th>Time_of_Day</th>\n",
              "      <th>Weekday</th>\n",
              "      <th>Month_name</th>\n",
              "      <th>Weekdaysort</th>\n",
              "      <th>Monthsort</th>\n",
              "      <th>Date</th>\n",
              "      <th>Time</th>\n",
              "    </tr>\n",
              "  </thead>\n",
              "  <tbody>\n",
              "    <tr>\n",
              "      <th>0</th>\n",
              "      <td>10</td>\n",
              "      <td>card</td>\n",
              "      <td>38.7</td>\n",
              "      <td>Latte</td>\n",
              "      <td>Morning</td>\n",
              "      <td>Fri</td>\n",
              "      <td>Mar</td>\n",
              "      <td>5</td>\n",
              "      <td>3</td>\n",
              "      <td>2024-03-01</td>\n",
              "      <td>10:15:50.520000</td>\n",
              "    </tr>\n",
              "    <tr>\n",
              "      <th>1</th>\n",
              "      <td>12</td>\n",
              "      <td>card</td>\n",
              "      <td>38.7</td>\n",
              "      <td>Hot Chocolate</td>\n",
              "      <td>Afternoon</td>\n",
              "      <td>Fri</td>\n",
              "      <td>Mar</td>\n",
              "      <td>5</td>\n",
              "      <td>3</td>\n",
              "      <td>2024-03-01</td>\n",
              "      <td>12:19:22.539000</td>\n",
              "    </tr>\n",
              "    <tr>\n",
              "      <th>2</th>\n",
              "      <td>12</td>\n",
              "      <td>card</td>\n",
              "      <td>38.7</td>\n",
              "      <td>Hot Chocolate</td>\n",
              "      <td>Afternoon</td>\n",
              "      <td>Fri</td>\n",
              "      <td>Mar</td>\n",
              "      <td>5</td>\n",
              "      <td>3</td>\n",
              "      <td>2024-03-01</td>\n",
              "      <td>12:20:18.089000</td>\n",
              "    </tr>\n",
              "    <tr>\n",
              "      <th>3</th>\n",
              "      <td>13</td>\n",
              "      <td>card</td>\n",
              "      <td>28.9</td>\n",
              "      <td>Americano</td>\n",
              "      <td>Afternoon</td>\n",
              "      <td>Fri</td>\n",
              "      <td>Mar</td>\n",
              "      <td>5</td>\n",
              "      <td>3</td>\n",
              "      <td>2024-03-01</td>\n",
              "      <td>13:46:33.006000</td>\n",
              "    </tr>\n",
              "    <tr>\n",
              "      <th>4</th>\n",
              "      <td>13</td>\n",
              "      <td>card</td>\n",
              "      <td>38.7</td>\n",
              "      <td>Latte</td>\n",
              "      <td>Afternoon</td>\n",
              "      <td>Fri</td>\n",
              "      <td>Mar</td>\n",
              "      <td>5</td>\n",
              "      <td>3</td>\n",
              "      <td>2024-03-01</td>\n",
              "      <td>13:48:14.626000</td>\n",
              "    </tr>\n",
              "  </tbody>\n",
              "</table>\n",
              "</div>\n",
              "    <div class=\"colab-df-buttons\">\n",
              "\n",
              "  <div class=\"colab-df-container\">\n",
              "    <button class=\"colab-df-convert\" onclick=\"convertToInteractive('df-e7cb8817-64d7-4ce0-88c5-eabf1144df95')\"\n",
              "            title=\"Convert this dataframe to an interactive table.\"\n",
              "            style=\"display:none;\">\n",
              "\n",
              "  <svg xmlns=\"http://www.w3.org/2000/svg\" height=\"24px\" viewBox=\"0 -960 960 960\">\n",
              "    <path d=\"M120-120v-720h720v720H120Zm60-500h600v-160H180v160Zm220 220h160v-160H400v160Zm0 220h160v-160H400v160ZM180-400h160v-160H180v160Zm440 0h160v-160H620v160ZM180-180h160v-160H180v160Zm440 0h160v-160H620v160Z\"/>\n",
              "  </svg>\n",
              "    </button>\n",
              "\n",
              "  <style>\n",
              "    .colab-df-container {\n",
              "      display:flex;\n",
              "      gap: 12px;\n",
              "    }\n",
              "\n",
              "    .colab-df-convert {\n",
              "      background-color: #E8F0FE;\n",
              "      border: none;\n",
              "      border-radius: 50%;\n",
              "      cursor: pointer;\n",
              "      display: none;\n",
              "      fill: #1967D2;\n",
              "      height: 32px;\n",
              "      padding: 0 0 0 0;\n",
              "      width: 32px;\n",
              "    }\n",
              "\n",
              "    .colab-df-convert:hover {\n",
              "      background-color: #E2EBFA;\n",
              "      box-shadow: 0px 1px 2px rgba(60, 64, 67, 0.3), 0px 1px 3px 1px rgba(60, 64, 67, 0.15);\n",
              "      fill: #174EA6;\n",
              "    }\n",
              "\n",
              "    .colab-df-buttons div {\n",
              "      margin-bottom: 4px;\n",
              "    }\n",
              "\n",
              "    [theme=dark] .colab-df-convert {\n",
              "      background-color: #3B4455;\n",
              "      fill: #D2E3FC;\n",
              "    }\n",
              "\n",
              "    [theme=dark] .colab-df-convert:hover {\n",
              "      background-color: #434B5C;\n",
              "      box-shadow: 0px 1px 3px 1px rgba(0, 0, 0, 0.15);\n",
              "      filter: drop-shadow(0px 1px 2px rgba(0, 0, 0, 0.3));\n",
              "      fill: #FFFFFF;\n",
              "    }\n",
              "  </style>\n",
              "\n",
              "    <script>\n",
              "      const buttonEl =\n",
              "        document.querySelector('#df-e7cb8817-64d7-4ce0-88c5-eabf1144df95 button.colab-df-convert');\n",
              "      buttonEl.style.display =\n",
              "        google.colab.kernel.accessAllowed ? 'block' : 'none';\n",
              "\n",
              "      async function convertToInteractive(key) {\n",
              "        const element = document.querySelector('#df-e7cb8817-64d7-4ce0-88c5-eabf1144df95');\n",
              "        const dataTable =\n",
              "          await google.colab.kernel.invokeFunction('convertToInteractive',\n",
              "                                                    [key], {});\n",
              "        if (!dataTable) return;\n",
              "\n",
              "        const docLinkHtml = 'Like what you see? Visit the ' +\n",
              "          '<a target=\"_blank\" href=https://colab.research.google.com/notebooks/data_table.ipynb>data table notebook</a>'\n",
              "          + ' to learn more about interactive tables.';\n",
              "        element.innerHTML = '';\n",
              "        dataTable['output_type'] = 'display_data';\n",
              "        await google.colab.output.renderOutput(dataTable, element);\n",
              "        const docLink = document.createElement('div');\n",
              "        docLink.innerHTML = docLinkHtml;\n",
              "        element.appendChild(docLink);\n",
              "      }\n",
              "    </script>\n",
              "  </div>\n",
              "\n",
              "\n",
              "    <div id=\"df-81e2bd5c-cc63-41ed-843e-4f8696f1b2ad\">\n",
              "      <button class=\"colab-df-quickchart\" onclick=\"quickchart('df-81e2bd5c-cc63-41ed-843e-4f8696f1b2ad')\"\n",
              "                title=\"Suggest charts\"\n",
              "                style=\"display:none;\">\n",
              "\n",
              "<svg xmlns=\"http://www.w3.org/2000/svg\" height=\"24px\"viewBox=\"0 0 24 24\"\n",
              "     width=\"24px\">\n",
              "    <g>\n",
              "        <path d=\"M19 3H5c-1.1 0-2 .9-2 2v14c0 1.1.9 2 2 2h14c1.1 0 2-.9 2-2V5c0-1.1-.9-2-2-2zM9 17H7v-7h2v7zm4 0h-2V7h2v10zm4 0h-2v-4h2v4z\"/>\n",
              "    </g>\n",
              "</svg>\n",
              "      </button>\n",
              "\n",
              "<style>\n",
              "  .colab-df-quickchart {\n",
              "      --bg-color: #E8F0FE;\n",
              "      --fill-color: #1967D2;\n",
              "      --hover-bg-color: #E2EBFA;\n",
              "      --hover-fill-color: #174EA6;\n",
              "      --disabled-fill-color: #AAA;\n",
              "      --disabled-bg-color: #DDD;\n",
              "  }\n",
              "\n",
              "  [theme=dark] .colab-df-quickchart {\n",
              "      --bg-color: #3B4455;\n",
              "      --fill-color: #D2E3FC;\n",
              "      --hover-bg-color: #434B5C;\n",
              "      --hover-fill-color: #FFFFFF;\n",
              "      --disabled-bg-color: #3B4455;\n",
              "      --disabled-fill-color: #666;\n",
              "  }\n",
              "\n",
              "  .colab-df-quickchart {\n",
              "    background-color: var(--bg-color);\n",
              "    border: none;\n",
              "    border-radius: 50%;\n",
              "    cursor: pointer;\n",
              "    display: none;\n",
              "    fill: var(--fill-color);\n",
              "    height: 32px;\n",
              "    padding: 0;\n",
              "    width: 32px;\n",
              "  }\n",
              "\n",
              "  .colab-df-quickchart:hover {\n",
              "    background-color: var(--hover-bg-color);\n",
              "    box-shadow: 0 1px 2px rgba(60, 64, 67, 0.3), 0 1px 3px 1px rgba(60, 64, 67, 0.15);\n",
              "    fill: var(--button-hover-fill-color);\n",
              "  }\n",
              "\n",
              "  .colab-df-quickchart-complete:disabled,\n",
              "  .colab-df-quickchart-complete:disabled:hover {\n",
              "    background-color: var(--disabled-bg-color);\n",
              "    fill: var(--disabled-fill-color);\n",
              "    box-shadow: none;\n",
              "  }\n",
              "\n",
              "  .colab-df-spinner {\n",
              "    border: 2px solid var(--fill-color);\n",
              "    border-color: transparent;\n",
              "    border-bottom-color: var(--fill-color);\n",
              "    animation:\n",
              "      spin 1s steps(1) infinite;\n",
              "  }\n",
              "\n",
              "  @keyframes spin {\n",
              "    0% {\n",
              "      border-color: transparent;\n",
              "      border-bottom-color: var(--fill-color);\n",
              "      border-left-color: var(--fill-color);\n",
              "    }\n",
              "    20% {\n",
              "      border-color: transparent;\n",
              "      border-left-color: var(--fill-color);\n",
              "      border-top-color: var(--fill-color);\n",
              "    }\n",
              "    30% {\n",
              "      border-color: transparent;\n",
              "      border-left-color: var(--fill-color);\n",
              "      border-top-color: var(--fill-color);\n",
              "      border-right-color: var(--fill-color);\n",
              "    }\n",
              "    40% {\n",
              "      border-color: transparent;\n",
              "      border-right-color: var(--fill-color);\n",
              "      border-top-color: var(--fill-color);\n",
              "    }\n",
              "    60% {\n",
              "      border-color: transparent;\n",
              "      border-right-color: var(--fill-color);\n",
              "    }\n",
              "    80% {\n",
              "      border-color: transparent;\n",
              "      border-right-color: var(--fill-color);\n",
              "      border-bottom-color: var(--fill-color);\n",
              "    }\n",
              "    90% {\n",
              "      border-color: transparent;\n",
              "      border-bottom-color: var(--fill-color);\n",
              "    }\n",
              "  }\n",
              "</style>\n",
              "\n",
              "      <script>\n",
              "        async function quickchart(key) {\n",
              "          const quickchartButtonEl =\n",
              "            document.querySelector('#' + key + ' button');\n",
              "          quickchartButtonEl.disabled = true;  // To prevent multiple clicks.\n",
              "          quickchartButtonEl.classList.add('colab-df-spinner');\n",
              "          try {\n",
              "            const charts = await google.colab.kernel.invokeFunction(\n",
              "                'suggestCharts', [key], {});\n",
              "          } catch (error) {\n",
              "            console.error('Error during call to suggestCharts:', error);\n",
              "          }\n",
              "          quickchartButtonEl.classList.remove('colab-df-spinner');\n",
              "          quickchartButtonEl.classList.add('colab-df-quickchart-complete');\n",
              "        }\n",
              "        (() => {\n",
              "          let quickchartButtonEl =\n",
              "            document.querySelector('#df-81e2bd5c-cc63-41ed-843e-4f8696f1b2ad button');\n",
              "          quickchartButtonEl.style.display =\n",
              "            google.colab.kernel.accessAllowed ? 'block' : 'none';\n",
              "        })();\n",
              "      </script>\n",
              "    </div>\n",
              "\n",
              "    </div>\n",
              "  </div>\n"
            ],
            "application/vnd.google.colaboratory.intrinsic+json": {
              "type": "dataframe",
              "variable_name": "df",
              "summary": "{\n  \"name\": \"df\",\n  \"rows\": 3547,\n  \"fields\": [\n    {\n      \"column\": \"hour_of_day\",\n      \"properties\": {\n        \"dtype\": \"number\",\n        \"std\": 4,\n        \"min\": 6,\n        \"max\": 22,\n        \"num_unique_values\": 17,\n        \"samples\": [\n          10,\n          12,\n          18\n        ],\n        \"semantic_type\": \"\",\n        \"description\": \"\"\n      }\n    },\n    {\n      \"column\": \"cash_type\",\n      \"properties\": {\n        \"dtype\": \"category\",\n        \"num_unique_values\": 1,\n        \"samples\": [\n          \"card\"\n        ],\n        \"semantic_type\": \"\",\n        \"description\": \"\"\n      }\n    },\n    {\n      \"column\": \"money\",\n      \"properties\": {\n        \"dtype\": \"number\",\n        \"std\": 4.877753703590957,\n        \"min\": 18.12,\n        \"max\": 38.7,\n        \"num_unique_values\": 13,\n        \"samples\": [\n          25.96\n        ],\n        \"semantic_type\": \"\",\n        \"description\": \"\"\n      }\n    },\n    {\n      \"column\": \"coffee_name\",\n      \"properties\": {\n        \"dtype\": \"category\",\n        \"num_unique_values\": 8,\n        \"samples\": [\n          \"Hot Chocolate\"\n        ],\n        \"semantic_type\": \"\",\n        \"description\": \"\"\n      }\n    },\n    {\n      \"column\": \"Time_of_Day\",\n      \"properties\": {\n        \"dtype\": \"category\",\n        \"num_unique_values\": 3,\n        \"samples\": [\n          \"Morning\"\n        ],\n        \"semantic_type\": \"\",\n        \"description\": \"\"\n      }\n    },\n    {\n      \"column\": \"Weekday\",\n      \"properties\": {\n        \"dtype\": \"category\",\n        \"num_unique_values\": 7,\n        \"samples\": [\n          \"Fri\"\n        ],\n        \"semantic_type\": \"\",\n        \"description\": \"\"\n      }\n    },\n    {\n      \"column\": \"Month_name\",\n      \"properties\": {\n        \"dtype\": \"category\",\n        \"num_unique_values\": 12,\n        \"samples\": [\n          \"Jan\"\n        ],\n        \"semantic_type\": \"\",\n        \"description\": \"\"\n      }\n    },\n    {\n      \"column\": \"Weekdaysort\",\n      \"properties\": {\n        \"dtype\": \"number\",\n        \"std\": 1,\n        \"min\": 1,\n        \"max\": 7,\n        \"num_unique_values\": 7,\n        \"samples\": [\n          5\n        ],\n        \"semantic_type\": \"\",\n        \"description\": \"\"\n      }\n    },\n    {\n      \"column\": \"Monthsort\",\n      \"properties\": {\n        \"dtype\": \"number\",\n        \"std\": 3,\n        \"min\": 1,\n        \"max\": 12,\n        \"num_unique_values\": 12,\n        \"samples\": [\n          1\n        ],\n        \"semantic_type\": \"\",\n        \"description\": \"\"\n      }\n    },\n    {\n      \"column\": \"Date\",\n      \"properties\": {\n        \"dtype\": \"object\",\n        \"num_unique_values\": 381,\n        \"samples\": [\n          \"2024-11-25\"\n        ],\n        \"semantic_type\": \"\",\n        \"description\": \"\"\n      }\n    },\n    {\n      \"column\": \"Time\",\n      \"properties\": {\n        \"dtype\": \"object\",\n        \"num_unique_values\": 3547,\n        \"samples\": [\n          \"19:43:26.234000\"\n        ],\n        \"semantic_type\": \"\",\n        \"description\": \"\"\n      }\n    }\n  ]\n}"
            }
          },
          "metadata": {},
          "execution_count": 1
        }
      ]
    },
    {
      "cell_type": "markdown",
      "source": [
        "## 📊 Información básica del dataset\n",
        "\n"
      ],
      "metadata": {
        "id": "-f1nhQOWhrnb"
      }
    },
    {
      "cell_type": "code",
      "source": [
        "df.info()"
      ],
      "metadata": {
        "colab": {
          "base_uri": "https://localhost:8080/"
        },
        "id": "F3ma5xXuhtjZ",
        "outputId": "3f9f0d8b-7881-483a-f62e-6fe4584847d3"
      },
      "execution_count": null,
      "outputs": [
        {
          "output_type": "stream",
          "name": "stdout",
          "text": [
            "<class 'pandas.core.frame.DataFrame'>\n",
            "RangeIndex: 3547 entries, 0 to 3546\n",
            "Data columns (total 11 columns):\n",
            " #   Column       Non-Null Count  Dtype  \n",
            "---  ------       --------------  -----  \n",
            " 0   hour_of_day  3547 non-null   int64  \n",
            " 1   cash_type    3547 non-null   object \n",
            " 2   money        3547 non-null   float64\n",
            " 3   coffee_name  3547 non-null   object \n",
            " 4   Time_of_Day  3547 non-null   object \n",
            " 5   Weekday      3547 non-null   object \n",
            " 6   Month_name   3547 non-null   object \n",
            " 7   Weekdaysort  3547 non-null   int64  \n",
            " 8   Monthsort    3547 non-null   int64  \n",
            " 9   Date         3547 non-null   object \n",
            " 10  Time         3547 non-null   object \n",
            "dtypes: float64(1), int64(3), object(7)\n",
            "memory usage: 304.9+ KB\n"
          ]
        }
      ]
    },
    {
      "cell_type": "markdown",
      "source": [
        "### 🔎 Dimensiones del dataset"
      ],
      "metadata": {
        "id": "uVzM8j8PiBA_"
      }
    },
    {
      "cell_type": "code",
      "source": [
        "print(\"Cantidad de filas y columnas:\", df.shape)"
      ],
      "metadata": {
        "colab": {
          "base_uri": "https://localhost:8080/"
        },
        "id": "T-wBfWEAh6Fa",
        "outputId": "c1053983-745c-451a-defc-538b7841b72b"
      },
      "execution_count": null,
      "outputs": [
        {
          "output_type": "stream",
          "name": "stdout",
          "text": [
            "Cantidad de filas y columnas: (3547, 11)\n"
          ]
        }
      ]
    },
    {
      "cell_type": "markdown",
      "source": [
        "# 📌 2️⃣ Parse – Estructuración de los Datos\n",
        "\n",
        "Objetivo: Organizar el dataset en una estructura manipulable para el análisis.  \n",
        "En esta etapa verificamos los tipos de datos, nombres de columnas y preparamos el DataFrame.\n",
        "\n",
        "1) Revisión de las columnas disponibles  \n",
        "2) Estadísticas descriptivas de las variables  \n",
        "3) Revisión de valores únicos en variables categóricas\n"
      ],
      "metadata": {
        "id": "Wf5l-RBbivEG"
      }
    },
    {
      "cell_type": "code",
      "source": [
        "print(\"Columnas del dataset:\\n\", df.columns.tolist())"
      ],
      "metadata": {
        "colab": {
          "base_uri": "https://localhost:8080/"
        },
        "id": "TiXGxDZMi1sM",
        "outputId": "03fe3e97-bad7-491a-9d07-902e4881ae03"
      },
      "execution_count": null,
      "outputs": [
        {
          "output_type": "stream",
          "name": "stdout",
          "text": [
            "Columnas del dataset:\n",
            " ['hour_of_day', 'cash_type', 'money', 'coffee_name', 'Time_of_Day', 'Weekday', 'Month_name', 'Weekdaysort', 'Monthsort', 'Date', 'Time']\n"
          ]
        }
      ]
    },
    {
      "cell_type": "markdown",
      "source": [
        "## Estadisticas\n"
      ],
      "metadata": {
        "id": "Z-52KbfljOQm"
      }
    },
    {
      "cell_type": "code",
      "source": [
        "df.describe(include=\"all\")"
      ],
      "metadata": {
        "colab": {
          "base_uri": "https://localhost:8080/",
          "height": 394
        },
        "id": "PD9ryZY2jJiS",
        "outputId": "65cb6b9e-97b4-4b2a-d493-76e28a11c5fc"
      },
      "execution_count": null,
      "outputs": [
        {
          "output_type": "execute_result",
          "data": {
            "text/plain": [
              "        hour_of_day cash_type        money          coffee_name Time_of_Day  \\\n",
              "count   3547.000000      3547  3547.000000                 3547        3547   \n",
              "unique          NaN         1          NaN                    8           3   \n",
              "top             NaN      card          NaN  Americano with Milk   Afternoon   \n",
              "freq            NaN      3547          NaN                  809        1205   \n",
              "mean      14.185791       NaN    31.645216                  NaN         NaN   \n",
              "std        4.234010       NaN     4.877754                  NaN         NaN   \n",
              "min        6.000000       NaN    18.120000                  NaN         NaN   \n",
              "25%       10.000000       NaN    27.920000                  NaN         NaN   \n",
              "50%       14.000000       NaN    32.820000                  NaN         NaN   \n",
              "75%       18.000000       NaN    35.760000                  NaN         NaN   \n",
              "max       22.000000       NaN    38.700000                  NaN         NaN   \n",
              "\n",
              "       Weekday Month_name  Weekdaysort    Monthsort        Date  \\\n",
              "count     3547       3547  3547.000000  3547.000000        3547   \n",
              "unique       7         12          NaN          NaN         381   \n",
              "top        Tue        Mar          NaN          NaN  2024-10-11   \n",
              "freq       572        494          NaN          NaN          26   \n",
              "mean       NaN        NaN     3.845785     6.453905         NaN   \n",
              "std        NaN        NaN     1.971501     3.500754         NaN   \n",
              "min        NaN        NaN     1.000000     1.000000         NaN   \n",
              "25%        NaN        NaN     2.000000     3.000000         NaN   \n",
              "50%        NaN        NaN     4.000000     7.000000         NaN   \n",
              "75%        NaN        NaN     6.000000    10.000000         NaN   \n",
              "max        NaN        NaN     7.000000    12.000000         NaN   \n",
              "\n",
              "                   Time  \n",
              "count              3547  \n",
              "unique             3547  \n",
              "top     18:11:38.635000  \n",
              "freq                  1  \n",
              "mean                NaN  \n",
              "std                 NaN  \n",
              "min                 NaN  \n",
              "25%                 NaN  \n",
              "50%                 NaN  \n",
              "75%                 NaN  \n",
              "max                 NaN  "
            ],
            "text/html": [
              "\n",
              "  <div id=\"df-7df10bf4-4743-40a0-9ef8-98724f801c8c\" class=\"colab-df-container\">\n",
              "    <div>\n",
              "<style scoped>\n",
              "    .dataframe tbody tr th:only-of-type {\n",
              "        vertical-align: middle;\n",
              "    }\n",
              "\n",
              "    .dataframe tbody tr th {\n",
              "        vertical-align: top;\n",
              "    }\n",
              "\n",
              "    .dataframe thead th {\n",
              "        text-align: right;\n",
              "    }\n",
              "</style>\n",
              "<table border=\"1\" class=\"dataframe\">\n",
              "  <thead>\n",
              "    <tr style=\"text-align: right;\">\n",
              "      <th></th>\n",
              "      <th>hour_of_day</th>\n",
              "      <th>cash_type</th>\n",
              "      <th>money</th>\n",
              "      <th>coffee_name</th>\n",
              "      <th>Time_of_Day</th>\n",
              "      <th>Weekday</th>\n",
              "      <th>Month_name</th>\n",
              "      <th>Weekdaysort</th>\n",
              "      <th>Monthsort</th>\n",
              "      <th>Date</th>\n",
              "      <th>Time</th>\n",
              "    </tr>\n",
              "  </thead>\n",
              "  <tbody>\n",
              "    <tr>\n",
              "      <th>count</th>\n",
              "      <td>3547.000000</td>\n",
              "      <td>3547</td>\n",
              "      <td>3547.000000</td>\n",
              "      <td>3547</td>\n",
              "      <td>3547</td>\n",
              "      <td>3547</td>\n",
              "      <td>3547</td>\n",
              "      <td>3547.000000</td>\n",
              "      <td>3547.000000</td>\n",
              "      <td>3547</td>\n",
              "      <td>3547</td>\n",
              "    </tr>\n",
              "    <tr>\n",
              "      <th>unique</th>\n",
              "      <td>NaN</td>\n",
              "      <td>1</td>\n",
              "      <td>NaN</td>\n",
              "      <td>8</td>\n",
              "      <td>3</td>\n",
              "      <td>7</td>\n",
              "      <td>12</td>\n",
              "      <td>NaN</td>\n",
              "      <td>NaN</td>\n",
              "      <td>381</td>\n",
              "      <td>3547</td>\n",
              "    </tr>\n",
              "    <tr>\n",
              "      <th>top</th>\n",
              "      <td>NaN</td>\n",
              "      <td>card</td>\n",
              "      <td>NaN</td>\n",
              "      <td>Americano with Milk</td>\n",
              "      <td>Afternoon</td>\n",
              "      <td>Tue</td>\n",
              "      <td>Mar</td>\n",
              "      <td>NaN</td>\n",
              "      <td>NaN</td>\n",
              "      <td>2024-10-11</td>\n",
              "      <td>18:11:38.635000</td>\n",
              "    </tr>\n",
              "    <tr>\n",
              "      <th>freq</th>\n",
              "      <td>NaN</td>\n",
              "      <td>3547</td>\n",
              "      <td>NaN</td>\n",
              "      <td>809</td>\n",
              "      <td>1205</td>\n",
              "      <td>572</td>\n",
              "      <td>494</td>\n",
              "      <td>NaN</td>\n",
              "      <td>NaN</td>\n",
              "      <td>26</td>\n",
              "      <td>1</td>\n",
              "    </tr>\n",
              "    <tr>\n",
              "      <th>mean</th>\n",
              "      <td>14.185791</td>\n",
              "      <td>NaN</td>\n",
              "      <td>31.645216</td>\n",
              "      <td>NaN</td>\n",
              "      <td>NaN</td>\n",
              "      <td>NaN</td>\n",
              "      <td>NaN</td>\n",
              "      <td>3.845785</td>\n",
              "      <td>6.453905</td>\n",
              "      <td>NaN</td>\n",
              "      <td>NaN</td>\n",
              "    </tr>\n",
              "    <tr>\n",
              "      <th>std</th>\n",
              "      <td>4.234010</td>\n",
              "      <td>NaN</td>\n",
              "      <td>4.877754</td>\n",
              "      <td>NaN</td>\n",
              "      <td>NaN</td>\n",
              "      <td>NaN</td>\n",
              "      <td>NaN</td>\n",
              "      <td>1.971501</td>\n",
              "      <td>3.500754</td>\n",
              "      <td>NaN</td>\n",
              "      <td>NaN</td>\n",
              "    </tr>\n",
              "    <tr>\n",
              "      <th>min</th>\n",
              "      <td>6.000000</td>\n",
              "      <td>NaN</td>\n",
              "      <td>18.120000</td>\n",
              "      <td>NaN</td>\n",
              "      <td>NaN</td>\n",
              "      <td>NaN</td>\n",
              "      <td>NaN</td>\n",
              "      <td>1.000000</td>\n",
              "      <td>1.000000</td>\n",
              "      <td>NaN</td>\n",
              "      <td>NaN</td>\n",
              "    </tr>\n",
              "    <tr>\n",
              "      <th>25%</th>\n",
              "      <td>10.000000</td>\n",
              "      <td>NaN</td>\n",
              "      <td>27.920000</td>\n",
              "      <td>NaN</td>\n",
              "      <td>NaN</td>\n",
              "      <td>NaN</td>\n",
              "      <td>NaN</td>\n",
              "      <td>2.000000</td>\n",
              "      <td>3.000000</td>\n",
              "      <td>NaN</td>\n",
              "      <td>NaN</td>\n",
              "    </tr>\n",
              "    <tr>\n",
              "      <th>50%</th>\n",
              "      <td>14.000000</td>\n",
              "      <td>NaN</td>\n",
              "      <td>32.820000</td>\n",
              "      <td>NaN</td>\n",
              "      <td>NaN</td>\n",
              "      <td>NaN</td>\n",
              "      <td>NaN</td>\n",
              "      <td>4.000000</td>\n",
              "      <td>7.000000</td>\n",
              "      <td>NaN</td>\n",
              "      <td>NaN</td>\n",
              "    </tr>\n",
              "    <tr>\n",
              "      <th>75%</th>\n",
              "      <td>18.000000</td>\n",
              "      <td>NaN</td>\n",
              "      <td>35.760000</td>\n",
              "      <td>NaN</td>\n",
              "      <td>NaN</td>\n",
              "      <td>NaN</td>\n",
              "      <td>NaN</td>\n",
              "      <td>6.000000</td>\n",
              "      <td>10.000000</td>\n",
              "      <td>NaN</td>\n",
              "      <td>NaN</td>\n",
              "    </tr>\n",
              "    <tr>\n",
              "      <th>max</th>\n",
              "      <td>22.000000</td>\n",
              "      <td>NaN</td>\n",
              "      <td>38.700000</td>\n",
              "      <td>NaN</td>\n",
              "      <td>NaN</td>\n",
              "      <td>NaN</td>\n",
              "      <td>NaN</td>\n",
              "      <td>7.000000</td>\n",
              "      <td>12.000000</td>\n",
              "      <td>NaN</td>\n",
              "      <td>NaN</td>\n",
              "    </tr>\n",
              "  </tbody>\n",
              "</table>\n",
              "</div>\n",
              "    <div class=\"colab-df-buttons\">\n",
              "\n",
              "  <div class=\"colab-df-container\">\n",
              "    <button class=\"colab-df-convert\" onclick=\"convertToInteractive('df-7df10bf4-4743-40a0-9ef8-98724f801c8c')\"\n",
              "            title=\"Convert this dataframe to an interactive table.\"\n",
              "            style=\"display:none;\">\n",
              "\n",
              "  <svg xmlns=\"http://www.w3.org/2000/svg\" height=\"24px\" viewBox=\"0 -960 960 960\">\n",
              "    <path d=\"M120-120v-720h720v720H120Zm60-500h600v-160H180v160Zm220 220h160v-160H400v160Zm0 220h160v-160H400v160ZM180-400h160v-160H180v160Zm440 0h160v-160H620v160ZM180-180h160v-160H180v160Zm440 0h160v-160H620v160Z\"/>\n",
              "  </svg>\n",
              "    </button>\n",
              "\n",
              "  <style>\n",
              "    .colab-df-container {\n",
              "      display:flex;\n",
              "      gap: 12px;\n",
              "    }\n",
              "\n",
              "    .colab-df-convert {\n",
              "      background-color: #E8F0FE;\n",
              "      border: none;\n",
              "      border-radius: 50%;\n",
              "      cursor: pointer;\n",
              "      display: none;\n",
              "      fill: #1967D2;\n",
              "      height: 32px;\n",
              "      padding: 0 0 0 0;\n",
              "      width: 32px;\n",
              "    }\n",
              "\n",
              "    .colab-df-convert:hover {\n",
              "      background-color: #E2EBFA;\n",
              "      box-shadow: 0px 1px 2px rgba(60, 64, 67, 0.3), 0px 1px 3px 1px rgba(60, 64, 67, 0.15);\n",
              "      fill: #174EA6;\n",
              "    }\n",
              "\n",
              "    .colab-df-buttons div {\n",
              "      margin-bottom: 4px;\n",
              "    }\n",
              "\n",
              "    [theme=dark] .colab-df-convert {\n",
              "      background-color: #3B4455;\n",
              "      fill: #D2E3FC;\n",
              "    }\n",
              "\n",
              "    [theme=dark] .colab-df-convert:hover {\n",
              "      background-color: #434B5C;\n",
              "      box-shadow: 0px 1px 3px 1px rgba(0, 0, 0, 0.15);\n",
              "      filter: drop-shadow(0px 1px 2px rgba(0, 0, 0, 0.3));\n",
              "      fill: #FFFFFF;\n",
              "    }\n",
              "  </style>\n",
              "\n",
              "    <script>\n",
              "      const buttonEl =\n",
              "        document.querySelector('#df-7df10bf4-4743-40a0-9ef8-98724f801c8c button.colab-df-convert');\n",
              "      buttonEl.style.display =\n",
              "        google.colab.kernel.accessAllowed ? 'block' : 'none';\n",
              "\n",
              "      async function convertToInteractive(key) {\n",
              "        const element = document.querySelector('#df-7df10bf4-4743-40a0-9ef8-98724f801c8c');\n",
              "        const dataTable =\n",
              "          await google.colab.kernel.invokeFunction('convertToInteractive',\n",
              "                                                    [key], {});\n",
              "        if (!dataTable) return;\n",
              "\n",
              "        const docLinkHtml = 'Like what you see? Visit the ' +\n",
              "          '<a target=\"_blank\" href=https://colab.research.google.com/notebooks/data_table.ipynb>data table notebook</a>'\n",
              "          + ' to learn more about interactive tables.';\n",
              "        element.innerHTML = '';\n",
              "        dataTable['output_type'] = 'display_data';\n",
              "        await google.colab.output.renderOutput(dataTable, element);\n",
              "        const docLink = document.createElement('div');\n",
              "        docLink.innerHTML = docLinkHtml;\n",
              "        element.appendChild(docLink);\n",
              "      }\n",
              "    </script>\n",
              "  </div>\n",
              "\n",
              "\n",
              "    <div id=\"df-546342f2-f65f-48ea-8736-5b3238208e09\">\n",
              "      <button class=\"colab-df-quickchart\" onclick=\"quickchart('df-546342f2-f65f-48ea-8736-5b3238208e09')\"\n",
              "                title=\"Suggest charts\"\n",
              "                style=\"display:none;\">\n",
              "\n",
              "<svg xmlns=\"http://www.w3.org/2000/svg\" height=\"24px\"viewBox=\"0 0 24 24\"\n",
              "     width=\"24px\">\n",
              "    <g>\n",
              "        <path d=\"M19 3H5c-1.1 0-2 .9-2 2v14c0 1.1.9 2 2 2h14c1.1 0 2-.9 2-2V5c0-1.1-.9-2-2-2zM9 17H7v-7h2v7zm4 0h-2V7h2v10zm4 0h-2v-4h2v4z\"/>\n",
              "    </g>\n",
              "</svg>\n",
              "      </button>\n",
              "\n",
              "<style>\n",
              "  .colab-df-quickchart {\n",
              "      --bg-color: #E8F0FE;\n",
              "      --fill-color: #1967D2;\n",
              "      --hover-bg-color: #E2EBFA;\n",
              "      --hover-fill-color: #174EA6;\n",
              "      --disabled-fill-color: #AAA;\n",
              "      --disabled-bg-color: #DDD;\n",
              "  }\n",
              "\n",
              "  [theme=dark] .colab-df-quickchart {\n",
              "      --bg-color: #3B4455;\n",
              "      --fill-color: #D2E3FC;\n",
              "      --hover-bg-color: #434B5C;\n",
              "      --hover-fill-color: #FFFFFF;\n",
              "      --disabled-bg-color: #3B4455;\n",
              "      --disabled-fill-color: #666;\n",
              "  }\n",
              "\n",
              "  .colab-df-quickchart {\n",
              "    background-color: var(--bg-color);\n",
              "    border: none;\n",
              "    border-radius: 50%;\n",
              "    cursor: pointer;\n",
              "    display: none;\n",
              "    fill: var(--fill-color);\n",
              "    height: 32px;\n",
              "    padding: 0;\n",
              "    width: 32px;\n",
              "  }\n",
              "\n",
              "  .colab-df-quickchart:hover {\n",
              "    background-color: var(--hover-bg-color);\n",
              "    box-shadow: 0 1px 2px rgba(60, 64, 67, 0.3), 0 1px 3px 1px rgba(60, 64, 67, 0.15);\n",
              "    fill: var(--button-hover-fill-color);\n",
              "  }\n",
              "\n",
              "  .colab-df-quickchart-complete:disabled,\n",
              "  .colab-df-quickchart-complete:disabled:hover {\n",
              "    background-color: var(--disabled-bg-color);\n",
              "    fill: var(--disabled-fill-color);\n",
              "    box-shadow: none;\n",
              "  }\n",
              "\n",
              "  .colab-df-spinner {\n",
              "    border: 2px solid var(--fill-color);\n",
              "    border-color: transparent;\n",
              "    border-bottom-color: var(--fill-color);\n",
              "    animation:\n",
              "      spin 1s steps(1) infinite;\n",
              "  }\n",
              "\n",
              "  @keyframes spin {\n",
              "    0% {\n",
              "      border-color: transparent;\n",
              "      border-bottom-color: var(--fill-color);\n",
              "      border-left-color: var(--fill-color);\n",
              "    }\n",
              "    20% {\n",
              "      border-color: transparent;\n",
              "      border-left-color: var(--fill-color);\n",
              "      border-top-color: var(--fill-color);\n",
              "    }\n",
              "    30% {\n",
              "      border-color: transparent;\n",
              "      border-left-color: var(--fill-color);\n",
              "      border-top-color: var(--fill-color);\n",
              "      border-right-color: var(--fill-color);\n",
              "    }\n",
              "    40% {\n",
              "      border-color: transparent;\n",
              "      border-right-color: var(--fill-color);\n",
              "      border-top-color: var(--fill-color);\n",
              "    }\n",
              "    60% {\n",
              "      border-color: transparent;\n",
              "      border-right-color: var(--fill-color);\n",
              "    }\n",
              "    80% {\n",
              "      border-color: transparent;\n",
              "      border-right-color: var(--fill-color);\n",
              "      border-bottom-color: var(--fill-color);\n",
              "    }\n",
              "    90% {\n",
              "      border-color: transparent;\n",
              "      border-bottom-color: var(--fill-color);\n",
              "    }\n",
              "  }\n",
              "</style>\n",
              "\n",
              "      <script>\n",
              "        async function quickchart(key) {\n",
              "          const quickchartButtonEl =\n",
              "            document.querySelector('#' + key + ' button');\n",
              "          quickchartButtonEl.disabled = true;  // To prevent multiple clicks.\n",
              "          quickchartButtonEl.classList.add('colab-df-spinner');\n",
              "          try {\n",
              "            const charts = await google.colab.kernel.invokeFunction(\n",
              "                'suggestCharts', [key], {});\n",
              "          } catch (error) {\n",
              "            console.error('Error during call to suggestCharts:', error);\n",
              "          }\n",
              "          quickchartButtonEl.classList.remove('colab-df-spinner');\n",
              "          quickchartButtonEl.classList.add('colab-df-quickchart-complete');\n",
              "        }\n",
              "        (() => {\n",
              "          let quickchartButtonEl =\n",
              "            document.querySelector('#df-546342f2-f65f-48ea-8736-5b3238208e09 button');\n",
              "          quickchartButtonEl.style.display =\n",
              "            google.colab.kernel.accessAllowed ? 'block' : 'none';\n",
              "        })();\n",
              "      </script>\n",
              "    </div>\n",
              "\n",
              "    </div>\n",
              "  </div>\n"
            ],
            "application/vnd.google.colaboratory.intrinsic+json": {
              "type": "dataframe",
              "summary": "{\n  \"name\": \"df\",\n  \"rows\": 11,\n  \"fields\": [\n    {\n      \"column\": \"hour_of_day\",\n      \"properties\": {\n        \"dtype\": \"number\",\n        \"std\": 1249.601852184631,\n        \"min\": 4.23400956057577,\n        \"max\": 3547.0,\n        \"num_unique_values\": 8,\n        \"samples\": [\n          14.18579080913448,\n          14.0,\n          3547.0\n        ],\n        \"semantic_type\": \"\",\n        \"description\": \"\"\n      }\n    },\n    {\n      \"column\": \"cash_type\",\n      \"properties\": {\n        \"dtype\": \"category\",\n        \"num_unique_values\": 3,\n        \"samples\": [\n          \"3547\",\n          1,\n          \"card\"\n        ],\n        \"semantic_type\": \"\",\n        \"description\": \"\"\n      }\n    },\n    {\n      \"column\": \"money\",\n      \"properties\": {\n        \"dtype\": \"number\",\n        \"std\": 1244.5134603376905,\n        \"min\": 4.877753703590957,\n        \"max\": 3547.0,\n        \"num_unique_values\": 8,\n        \"samples\": [\n          31.64521567521849,\n          32.82,\n          3547.0\n        ],\n        \"semantic_type\": \"\",\n        \"description\": \"\"\n      }\n    },\n    {\n      \"column\": \"coffee_name\",\n      \"properties\": {\n        \"dtype\": \"category\",\n        \"num_unique_values\": 4,\n        \"samples\": [\n          8,\n          \"809\",\n          \"3547\"\n        ],\n        \"semantic_type\": \"\",\n        \"description\": \"\"\n      }\n    },\n    {\n      \"column\": \"Time_of_Day\",\n      \"properties\": {\n        \"dtype\": \"category\",\n        \"num_unique_values\": 4,\n        \"samples\": [\n          3,\n          \"1205\",\n          \"3547\"\n        ],\n        \"semantic_type\": \"\",\n        \"description\": \"\"\n      }\n    },\n    {\n      \"column\": \"Weekday\",\n      \"properties\": {\n        \"dtype\": \"category\",\n        \"num_unique_values\": 4,\n        \"samples\": [\n          7,\n          \"572\",\n          \"3547\"\n        ],\n        \"semantic_type\": \"\",\n        \"description\": \"\"\n      }\n    },\n    {\n      \"column\": \"Month_name\",\n      \"properties\": {\n        \"dtype\": \"category\",\n        \"num_unique_values\": 4,\n        \"samples\": [\n          12,\n          \"494\",\n          \"3547\"\n        ],\n        \"semantic_type\": \"\",\n        \"description\": \"\"\n      }\n    },\n    {\n      \"column\": \"Weekdaysort\",\n      \"properties\": {\n        \"dtype\": \"number\",\n        \"std\": 1252.75158620645,\n        \"min\": 1.0,\n        \"max\": 3547.0,\n        \"num_unique_values\": 8,\n        \"samples\": [\n          3.845785170566676,\n          4.0,\n          3547.0\n        ],\n        \"semantic_type\": \"\",\n        \"description\": \"\"\n      }\n    },\n    {\n      \"column\": \"Monthsort\",\n      \"properties\": {\n        \"dtype\": \"number\",\n        \"std\": 1251.889663204858,\n        \"min\": 1.0,\n        \"max\": 3547.0,\n        \"num_unique_values\": 8,\n        \"samples\": [\n          6.453904708204116,\n          7.0,\n          3547.0\n        ],\n        \"semantic_type\": \"\",\n        \"description\": \"\"\n      }\n    },\n    {\n      \"column\": \"Date\",\n      \"properties\": {\n        \"dtype\": \"date\",\n        \"min\": \"1970-01-01 00:00:00.000000026\",\n        \"max\": \"2024-10-11 00:00:00\",\n        \"num_unique_values\": 4,\n        \"samples\": [\n          381,\n          \"26\",\n          \"3547\"\n        ],\n        \"semantic_type\": \"\",\n        \"description\": \"\"\n      }\n    },\n    {\n      \"column\": \"Time\",\n      \"properties\": {\n        \"dtype\": \"date\",\n        \"min\": \"1970-01-01 00:00:00.000000001\",\n        \"max\": \"2025-09-04 18:11:38.635000\",\n        \"num_unique_values\": 3,\n        \"samples\": [\n          \"3547\",\n          \"18:11:38.635000\",\n          \"1\"\n        ],\n        \"semantic_type\": \"\",\n        \"description\": \"\"\n      }\n    }\n  ]\n}"
            }
          },
          "metadata": {},
          "execution_count": 7
        }
      ]
    },
    {
      "cell_type": "markdown",
      "source": [
        " ### Este paso es clave para entender cómo están distribuidas las categorías en el dataset.  \n",
        "   Nos permite identificar:  \n",
        "   - Cuántos tipos distintos de café se venden.  \n",
        "   - Qué métodos de pago están presentes (cash/card).  \n",
        "   - Cómo está organizado el tiempo (mañana, tarde, noche).  \n",
        "   - La distribución por días de la semana y meses.  \n",
        "\n",
        "   Con esta revisión sabremos si hay categorías mal escritas, duplicadas o inconsistentes, lo que será útil en la siguiente etapa de **Filter**."
      ],
      "metadata": {
        "id": "ddeqy2b9jhQl"
      }
    },
    {
      "cell_type": "code",
      "source": [
        "for col in ['coffee_name', 'cash_type', 'Time_of_Day', 'Weekday', 'Month_name']:\n",
        "    print(f\"\\nColumna: {col}\")\n",
        "    print(df[col].value_counts().head())\n"
      ],
      "metadata": {
        "colab": {
          "base_uri": "https://localhost:8080/"
        },
        "id": "oepliciNjhjs",
        "outputId": "7a41f70e-cd8c-4cbe-e653-f0c7bbd5ca72"
      },
      "execution_count": null,
      "outputs": [
        {
          "output_type": "stream",
          "name": "stdout",
          "text": [
            "\n",
            "Columna: coffee_name\n",
            "coffee_name\n",
            "Americano with Milk    809\n",
            "Latte                  757\n",
            "Americano              564\n",
            "Cappuccino             486\n",
            "Cortado                287\n",
            "Name: count, dtype: int64\n",
            "\n",
            "Columna: cash_type\n",
            "cash_type\n",
            "card    3547\n",
            "Name: count, dtype: int64\n",
            "\n",
            "Columna: Time_of_Day\n",
            "Time_of_Day\n",
            "Afternoon    1205\n",
            "Morning      1181\n",
            "Night        1161\n",
            "Name: count, dtype: int64\n",
            "\n",
            "Columna: Weekday\n",
            "Weekday\n",
            "Tue    572\n",
            "Mon    544\n",
            "Fri    532\n",
            "Thu    510\n",
            "Wed    500\n",
            "Name: count, dtype: int64\n",
            "\n",
            "Columna: Month_name\n",
            "Month_name\n",
            "Mar    494\n",
            "Oct    426\n",
            "Feb    423\n",
            "Sep    344\n",
            "Aug    272\n",
            "Name: count, dtype: int64\n"
          ]
        }
      ]
    },
    {
      "cell_type": "markdown",
      "source": [
        "### 🔎 Resultados de la revisión de valores únicos\n",
        "\n",
        "- **coffee_name**: los cafés más vendidos son *Americano with Milk*, *Latte*, *Americano*, *Cappuccino* y *Cortado*.  \n",
        "\n",
        "- **cash_type**: todas las transacciones registradas en esta muestra se realizaron con **tarjeta (3547)**. Esto puede deberse a que el dataset está limitado a un medio de pago o a que en la cafetería predomina fuertemente el uso de tarjeta.  \n",
        "\n",
        "- **Time_of_Day**: las ventas se distribuyen entre **Afternoon**, **Morning** y **Night**.\n",
        "\n",
        "- **Weekday**: los días registrados en formato \"Mon\", \"Tue\", etc.\n",
        "\n",
        "- **Month_name**:  los meses registrados en formato \"Jan\", \"Feb\", etc.\n",
        "\n",
        "Esta revisión confirma que las categorías están bien escritas y ordenadas, y además nos da una primera idea de las tendencias de consumo que luego podremos visualizar gráficamente.\n"
      ],
      "metadata": {
        "id": "kF7_MbRcj8EH"
      }
    },
    {
      "cell_type": "markdown",
      "source": [
        "# 📌 3️⃣ Filtrado de los Datos\n",
        "\n",
        "Objetivo: Eliminar ruido, valores irrelevantes o inconsistentes para asegurar que los datos sean adecuados para el análisis.  \n",
        "\n",
        "En nuestro dataset de ventas de café realizamos los siguientes chequeos:  \n",
        "\n",
        "1) **Duplicados**: verificamos si existen transacciones repetidas.  \n",
        "2) **Valores nulos**: detectamos si faltan datos en alguna columna.  \n",
        "3) **Categorías consistentes**: revisamos que no haya nombres mal escritos o inconsistentes en las variables categóricas.  \n",
        "4) **Rango de fechas**: confirmamos que las fechas de transacción tengan un formato correcto y correspondan al período esperado.  \n",
        "\n",
        "Este paso asegura que los datos que utilizaremos en las siguientes etapas sean representativos y confiables.\n"
      ],
      "metadata": {
        "id": "1eWofRJPk1gi"
      }
    },
    {
      "cell_type": "code",
      "source": [
        "# Chequeo de duplicados\n",
        "duplicados = df.duplicated().sum()\n",
        "print(\"Cantidad de filas duplicadas:\", duplicados)\n",
        "\n",
        "# Chequeo de valores nulos\n",
        "print(\"\\nValores nulos por columna:\")\n",
        "print(df.isnull().sum())\n"
      ],
      "metadata": {
        "colab": {
          "base_uri": "https://localhost:8080/"
        },
        "id": "noBUWZyok_Eh",
        "outputId": "17d6d722-2b5f-4774-a442-1101a5a56bbc"
      },
      "execution_count": null,
      "outputs": [
        {
          "output_type": "stream",
          "name": "stdout",
          "text": [
            "Cantidad de filas duplicadas: 0\n",
            "\n",
            "Valores nulos por columna:\n",
            "hour_of_day    0\n",
            "cash_type      0\n",
            "money          0\n",
            "coffee_name    0\n",
            "Time_of_Day    0\n",
            "Weekday        0\n",
            "Month_name     0\n",
            "Weekdaysort    0\n",
            "Monthsort      0\n",
            "Date           0\n",
            "Time           0\n",
            "dtype: int64\n"
          ]
        }
      ]
    },
    {
      "cell_type": "code",
      "source": [
        "# Revisión de categorías para confirmar consistencia\n",
        "for col in ['coffee_name', 'cash_type', 'Time_of_Day', 'Weekday', 'Month_name']:\n",
        "    print(f\"\\nColumna: {col}\")\n",
        "    print(df[col].unique())\n"
      ],
      "metadata": {
        "colab": {
          "base_uri": "https://localhost:8080/"
        },
        "id": "avenfo3HlV13",
        "outputId": "810ec2f8-16bf-4d06-818e-a5444e87cb4c"
      },
      "execution_count": null,
      "outputs": [
        {
          "output_type": "stream",
          "name": "stdout",
          "text": [
            "\n",
            "Columna: coffee_name\n",
            "['Latte' 'Hot Chocolate' 'Americano' 'Americano with Milk' 'Cocoa'\n",
            " 'Cortado' 'Espresso' 'Cappuccino']\n",
            "\n",
            "Columna: cash_type\n",
            "['card']\n",
            "\n",
            "Columna: Time_of_Day\n",
            "['Morning' 'Afternoon' 'Night']\n",
            "\n",
            "Columna: Weekday\n",
            "['Fri' 'Sat' 'Sun' 'Mon' 'Tue' 'Wed' 'Thu']\n",
            "\n",
            "Columna: Month_name\n",
            "['Mar' 'Apr' 'May' 'Jun' 'Jul' 'Aug' 'Sep' 'Oct' 'Nov' 'Dec' 'Jan' 'Feb']\n"
          ]
        }
      ]
    },
    {
      "cell_type": "code",
      "source": [
        "# Conversión de columna Date a tipo datetime (si aún no lo es)\n",
        "df['Date'] = pd.to_datetime(df['Date'])\n",
        "\n",
        "# Rango de fechas en el dataset\n",
        "print(\"Rango de fechas:\", df['Date'].min(), \"→\", df['Date'].max())\n"
      ],
      "metadata": {
        "colab": {
          "base_uri": "https://localhost:8080/"
        },
        "id": "e0oHq11SlbRA",
        "outputId": "0658f1ea-2f89-454a-aaff-8f7c48703ecd"
      },
      "execution_count": null,
      "outputs": [
        {
          "output_type": "stream",
          "name": "stdout",
          "text": [
            "Rango de fechas: 2024-03-01 00:00:00 → 2025-03-23 00:00:00\n"
          ]
        }
      ]
    },
    {
      "cell_type": "markdown",
      "source": [
        "### 🔎 Resultados del filtrado\n",
        "\n",
        "- **Duplicados**: no se detectaron filas repetidas, lo que indica que cada transacción es única.  \n",
        "- **Valores nulos**: no se encontraron valores vacíos en las columnas principales, por lo que el dataset está completo.  \n",
        "- **Categorías consistentes**: las variables categóricas (*coffee_name*, *cash_type*, *Time_of_Day*, *Weekday*, *Month_name*) presentan valores uniformes, sin errores de escritura.  \n",
        "- **Rango de fechas**: los registros abarcan desde [fecha mínima] hasta [fecha máxima], cubriendo un período adecuado para el análisis.  \n",
        "\n",
        "Después de este proceso podemos asegurar que el dataset está **limpio y listo** para avanzar a la etapa de **Mine**.\n"
      ],
      "metadata": {
        "id": "uxnYw75FltWa"
      }
    },
    {
      "cell_type": "markdown",
      "source": [
        "# 📌 4️⃣ Análisis y detección de patrones\n",
        "\n",
        "Objetivo: Extraer valor desde los datos, identificando relaciones y tendencias.  \n",
        "\n",
        "En esta etapa buscamos patrones relevantes en las ventas de café:  \n",
        "\n",
        "1) **Ventas por tipo de café** → identificar cuáles son los productos más consumidos.  \n",
        "2) **Ventas por franja horaria (Time_of_Day)** → entender en qué momento del día hay mayor demanda.  \n",
        "3) **Distribución semanal (Weekday)** → detectar qué días concentran más transacciones.  \n",
        "4) **Tendencia temporal (por meses)** → observar si existen estacionalidades o meses con mayor consumo.  \n",
        "\n",
        "- Estos patrones servirán de base para la representación visual en la siguiente etapa.\n"
      ],
      "metadata": {
        "id": "bTJLlG2-menf"
      }
    },
    {
      "cell_type": "code",
      "source": [
        "# Ventas por tipo de café\n",
        "ventas_cafe = df['coffee_name'].value_counts().head(5)\n",
        "print(\"Top 5 cafés más vendidos:\")\n",
        "print(ventas_cafe)\n"
      ],
      "metadata": {
        "colab": {
          "base_uri": "https://localhost:8080/"
        },
        "id": "gpwbagxAm1o9",
        "outputId": "0d7d8eb9-5cd7-4bb7-f66d-0edb5ccb32df"
      },
      "execution_count": null,
      "outputs": [
        {
          "output_type": "stream",
          "name": "stdout",
          "text": [
            "Top 5 cafés más vendidos:\n",
            "coffee_name\n",
            "Americano with Milk    809\n",
            "Latte                  757\n",
            "Americano              564\n",
            "Cappuccino             486\n",
            "Cortado                287\n",
            "Name: count, dtype: int64\n"
          ]
        }
      ]
    },
    {
      "cell_type": "code",
      "source": [
        "# Ventas por franja horaria\n",
        "ventas_horario = df['Time_of_Day'].value_counts()\n",
        "print(\"\\nVentas por franja horaria:\")\n",
        "print(ventas_horario)\n"
      ],
      "metadata": {
        "colab": {
          "base_uri": "https://localhost:8080/"
        },
        "id": "gbOy3a97nAQ1",
        "outputId": "c1f0fcf2-81dd-4b6a-db67-68e13f741714"
      },
      "execution_count": null,
      "outputs": [
        {
          "output_type": "stream",
          "name": "stdout",
          "text": [
            "\n",
            "Ventas por franja horaria:\n",
            "Time_of_Day\n",
            "Afternoon    1205\n",
            "Morning      1181\n",
            "Night        1161\n",
            "Name: count, dtype: int64\n"
          ]
        }
      ]
    },
    {
      "cell_type": "code",
      "source": [
        "# Ventas por día de la semana\n",
        "ventas_dias = df['Weekday'].value_counts()\n",
        "print(\"\\nVentas por día de la semana:\")\n",
        "print(ventas_dias)\n"
      ],
      "metadata": {
        "colab": {
          "base_uri": "https://localhost:8080/"
        },
        "id": "R0sHwiBLnGyz",
        "outputId": "cf1326d3-24bd-4a56-d96a-a469dcaec7a5"
      },
      "execution_count": null,
      "outputs": [
        {
          "output_type": "stream",
          "name": "stdout",
          "text": [
            "\n",
            "Ventas por día de la semana:\n",
            "Weekday\n",
            "Tue    572\n",
            "Mon    544\n",
            "Fri    532\n",
            "Thu    510\n",
            "Wed    500\n",
            "Sat    470\n",
            "Sun    419\n",
            "Name: count, dtype: int64\n"
          ]
        }
      ]
    },
    {
      "cell_type": "code",
      "source": [
        "# Ventas por mes\n",
        "ventas_mes = df['Month_name'].value_counts()\n",
        "print(\"\\nVentas por mes:\")\n",
        "print(ventas_mes)\n"
      ],
      "metadata": {
        "colab": {
          "base_uri": "https://localhost:8080/"
        },
        "id": "9PRIxEgxnUtL",
        "outputId": "50887450-2219-4595-f491-8d7f7f6882c6"
      },
      "execution_count": null,
      "outputs": [
        {
          "output_type": "stream",
          "name": "stdout",
          "text": [
            "\n",
            "Ventas por mes:\n",
            "Month_name\n",
            "Mar    494\n",
            "Oct    426\n",
            "Feb    423\n",
            "Sep    344\n",
            "Aug    272\n",
            "Dec    259\n",
            "Nov    259\n",
            "May    241\n",
            "Jul    237\n",
            "Jun    223\n",
            "Jan    201\n",
            "Apr    168\n",
            "Name: count, dtype: int64\n"
          ]
        }
      ]
    },
    {
      "cell_type": "markdown",
      "source": [
        "### 🔎 Resultados del análisis de patrones\n",
        "\n",
        "- **Tipos de café**: los más consumidos son los clásicos (ej. *Americano with Milk*, *Latte*), lo que sugiere que la clientela prefiere variedades tradicionales.  \n",
        "- **Franja horaria**: las ventas se reparten entre *Morning*, *Afternoon* y *Night*, mostrando que el café es consumido durante todo el día.  \n",
        "- **Días de la semana**: la demanda es relativamente estable, con ligera concentración en algunos días laborales.  \n",
        "- **Meses**: se observan diferencias entre meses, lo que puede deberse a estacionalidad o variaciones en el registro de datos.  \n",
        "\n",
        "Este análisis muestra **qué productos, horarios y períodos son más relevantes para el negocio**, y prepara el terreno para representarlo gráficamente en la próxima etapa."
      ],
      "metadata": {
        "id": "R7njCZplnjEZ"
      }
    },
    {
      "cell_type": "markdown",
      "source": [
        "# 📌 5️⃣ Visualización de los Datos\n",
        "\n",
        "## Visualización A — Participación por tipo de café (Pie chart)\n",
        "\n",
        "Mostrar la proporción de ventas que aporta cada tipo de café.  \n",
        "Permite identificar rápidamente qué variedades concentran mayor participación.\n",
        "\n",
        "## Visualización B — Órdenes promedio por mes\n",
        "\n",
        "Estimar la intensidad de ventas de cada mes controlando por la cantidad de días (promedio de órdenes por día).  \n",
        "Evita sesgos por meses con más/menos días o registro desigual, y muestra mejor la “actividad típica” de cada mes. Ademas marzo esta repetido 2024 y 2025.\n",
        "\n",
        "\n",
        "\n",
        "\n"
      ],
      "metadata": {
        "id": "BTvQ-F_1n6Nv"
      }
    },
    {
      "cell_type": "code",
      "source": [
        "# Resolver nombres de columnas\n",
        "cols_map = {c.lower().strip(): c for c in df.columns}\n",
        "def col(name):  # devuelve el nombre real de la columna (según esté en el CSV)\n",
        "    key = name.lower()\n",
        "    if key in cols_map:\n",
        "        return cols_map[key]\n",
        "    raise KeyError(f\"No se encontró la columna '{name}'. Columnas disponibles: {list(df.columns)}\")\n",
        "\n",
        "coffee_col = col(\"coffee_name\")\n",
        "date_col   = col(\"Date\")  # en el dataset suele ser \"Date\"\n",
        "\n",
        "# Asegurar tipo datetime\n",
        "df[date_col] = pd.to_datetime(df[date_col], errors=\"coerce\")\n",
        "\n",
        "# A) participación por tipo de café\n",
        "participacion = df[coffee_col].value_counts(dropna=False)\n",
        "\n",
        "plt.figure(figsize=(6,6))\n",
        "plt.pie(participacion.values, labels=participacion.index)\n",
        "plt.title(\"Participación por tipo de café\")\n",
        "plt.show()\n",
        "\n",
        "# BARRAS: órdenes promedio por mes\n",
        "\n",
        "# Asegurar que la columna Date esté en formato datetime\n",
        "df['Date'] = pd.to_datetime(df['Date'], errors=\"coerce\")\n",
        "\n",
        "# Conteo de órdenes por día\n",
        "diario = df.groupby(df['Date'].dt.date).size().rename('orders_day').to_frame()\n",
        "\n",
        "# Mes abreviado\n",
        "diario['Month_name'] = pd.to_datetime(diario.index).strftime('%b')\n",
        "\n",
        "# Orden de meses calendario (Jan → Dec)\n",
        "orden_jan_dec = [\"Jan\",\"Feb\",\"Mar\",\"Apr\",\"May\",\"Jun\",\n",
        "                 \"Jul\",\"Aug\",\"Sep\",\"Oct\",\"Nov\",\"Dec\"]\n",
        "\n",
        "# Promedio de órdenes diarias por mes\n",
        "prom_mensual = diario.groupby('Month_name')['orders_day'].mean().reindex(orden_jan_dec).fillna(0)\n",
        "\n",
        "# Plot refinado\n",
        "sns.set(style=\"whitegrid\")\n",
        "plt.figure(figsize=(9,6))\n",
        "bars = plt.bar(prom_mensual.index, prom_mensual.values, color=\"#c9792b\", edgecolor=\"#333\")\n",
        "\n",
        "\n",
        "plt.title(\"Órdenes promedio por mes (promedio diario) — Jan→Dec\", fontsize=15, pad=12)\n",
        "plt.xlabel(\"Mes\")\n",
        "plt.ylabel(\"Órdenes promedio por día\")\n",
        "plt.grid(axis='y', alpha=0.25)\n",
        "plt.tight_layout()\n",
        "plt.show()\n"
      ],
      "metadata": {
        "colab": {
          "base_uri": "https://localhost:8080/",
          "height": 1000
        },
        "id": "Exb_BhP-C4aa",
        "outputId": "02f6ecd3-1d06-4ac5-d6d7-3a929d86a687"
      },
      "execution_count": null,
      "outputs": [
        {
          "output_type": "display_data",
          "data": {
            "text/plain": [
              "<Figure size 600x600 with 1 Axes>"
            ],
            "image/png": "[encoded data removed]"
          },
          "metadata": {}
        },
        {
          "output_type": "display_data",
          "data": {
            "text/plain": [
              "<Figure size 900x600 with 1 Axes>"
            ],
            "image/png": "[encoded data removed]"
          },
          "metadata": {}
        }
      ]
    },
    {
      "cell_type": "markdown",
      "source": [
        "### Grafico 1\n",
        "El gráfico \"Cafes mas vendidos\" muestra claramente que **Americano with Milk** y **Latte** lideran el ranking de consumo, seguidos por **Americano** y **Cappuccino**.  \n",
        "Esto refleja que los clientes se inclinan principalmente por variedades clásicas, lo que puede orientar decisiones comerciales sobre stock y promociones.  \n",
        "### Grafico 2\n",
        "Se observa que algunos meses concentran un mayor volumen de ventas, mientras que otros registran caídas.  \n",
        "Estos resultados sugieren que las ventas **no son constantes** y que existen períodos de mayor y menor demanda.  \n",
        "Este tipo de análisis es útil para la **planificación comercial**: ajustar stock, personal y promociones en los meses con más movimiento, y diseñar estrategias para reforzar los meses más débiles."
      ],
      "metadata": {
        "id": "oVQoLtetvzTW"
      }
    },
    {
      "cell_type": "markdown",
      "source": [
        "# 📌 6️⃣ Refine – Mejora visual de las representaciones\n",
        "\n",
        "En esta etapa se optimiza la **estética** y la **legibilidad** sin cambiar el significado de los gráficos.\n",
        "\n",
        "- **Pie chart:** se aplican tonos cálidos (paleta café), se ordena por participación y se muestran porcentajes legibles.  \n",
        "- **Órdenes promedio por mes:** se mantiene el orden **Jan→Dec**, etiquetas numéricas y un grid para facilitar la lectura y comparación.\n"
      ],
      "metadata": {
        "id": "0Zp6PtDUC-bB"
      }
    },
    {
      "cell_type": "code",
      "source": [
        "sns.set(style=\"whitegrid\")\n",
        "plt.rcParams[\"figure.figsize\"] = (9, 6)\n",
        "\n",
        "# A) participación por tipo de café\n",
        "\n",
        "participacion = df['coffee_name'].value_counts()\n",
        "\n",
        "participacion = participacion.sort_values(ascending=False)\n",
        "\n",
        "colors = sns.color_palette(\"BrBG\", n_colors=len(participacion))\n",
        "fig, ax = plt.subplots(figsize=(7,7))\n",
        "\n",
        "wedges, texts, autotexts = ax.pie(\n",
        "    participacion.values,\n",
        "    labels=participacion.index,\n",
        "    autopct=\"%1.0f%%\",\n",
        "    startangle=90,\n",
        "    colors=colors,\n",
        "    pctdistance=0.72\n",
        ")\n",
        "\n",
        "\n",
        "ax.set_title(\"Participación por tipo de café (%)\", pad=12)\n",
        "plt.tight_layout()\n",
        "plt.show()\n",
        "\n",
        "# B) Barras refinadas (órdenes promedio por mes, Jan→Dec)\n",
        "\n",
        "df['Date'] = pd.to_datetime(df['Date'], errors=\"coerce\")\n",
        "diario = df.groupby(df['Date'].dt.date).size().rename('orders_day').to_frame()\n",
        "diario['Month_name'] = pd.to_datetime(diario.index).strftime('%b')\n",
        "\n",
        "orden_jan_dec = [\"Jan\",\"Feb\",\"Mar\",\"Apr\",\"May\",\"Jun\",\n",
        "                 \"Jul\",\"Aug\",\"Sep\",\"Oct\",\"Nov\",\"Dec\"]\n",
        "\n",
        "prom_mensual = (diario\n",
        "                .groupby('Month_name')['orders_day']\n",
        "                .mean()\n",
        "                .reindex(orden_jan_dec)\n",
        "                .fillna(0))\n",
        "\n",
        "# color\n",
        "bar_color = \"#9BC1BC\"\n",
        "\n",
        "fig, ax = plt.subplots(figsize=(9,6))\n",
        "bars = ax.bar(prom_mensual.index, prom_mensual.values, color=bar_color, edgecolor=\"#333\")\n",
        "\n",
        "# etiquetas numéricas\n",
        "for b in bars:\n",
        "    h = float(b.get_height())\n",
        "    ax.text(b.get_x()+b.get_width()/2, h + 0.05, f\"{h:.1f}\", ha='center', va='bottom', fontsize=10)\n",
        "\n",
        "ax.set_title(\"Órdenes promedio por mes — Jan→Dec\", fontsize=15, pad=12)\n",
        "ax.set_xlabel(\"Mes\", fontsize=12)\n",
        "ax.set_ylabel(\"Órdenes promedio por día\", fontsize=12)\n",
        "ax.grid(axis='y', alpha=0.25)\n",
        "plt.tight_layout()\n",
        "plt.show()\n"
      ],
      "metadata": {
        "colab": {
          "base_uri": "https://localhost:8080/",
          "height": 1000
        },
        "id": "a35RwyzfDDIv",
        "outputId": "2e7744ee-9609-45f5-f20a-1493d34a931f"
      },
      "execution_count": null,
      "outputs": [
        {
          "output_type": "display_data",
          "data": {
            "text/plain": [
              "<Figure size 700x700 with 1 Axes>"
            ],
            "image/png": "[encoded data removed]"
          },
          "metadata": {}
        },
        {
          "output_type": "display_data",
          "data": {
            "text/plain": [
              "<Figure size 900x600 with 1 Axes>"
            ],
            "image/png": "[encoded data removed]"
          },
          "metadata": {}
        }
      ]
    },
    {
      "cell_type": "markdown",
      "source": [
        "# 📌 Conclusión general\n",
        "\n",
        "- **Participación por tipo de café (Pie).** Este gráfico nos permitió identificar qué productos se venden mas. La concentración de ventas en unos pocos cafés muestra la preferencia clara de los clientes.\n",
        "\n",
        "- **Órdenes promedio por mes (Barras).** Al calcular el promedio diario de órdenes, se buscó evitar sesgos poruqe marzo se repetia en 2024 y 2025, entonces habia un pico en las ventas. El resultado muestra cómo la intensidad de ventas varía a lo largo del año:\n",
        "Algunos meses concentran mayor actividad, mientras que otros registran descensos. Esto refleja posibles patrones estacionales o variaciones en la demanda.\n",
        "\n",
        "Los gráficos fueron elegidos porque responden a dos preguntas fundamentales de cualquier análisis de negocio:\n",
        "1. **¿Qué se vende más?** El americano con leche\n",
        "2. **¿Cuándo se vende más?** En febrero.\n",
        "\n",
        "- La combinación de estas visualizaciones ofrece una mirada equilibrada: **qué cafés concentran la demanda** y **cómo evoluciona esa demanda en el tiempo**, brindando información clave para decisiones de stock, promociones y planificación estratégica.\n"
      ],
      "metadata": {
        "id": "raPPTEehmGnT"
      }
    }
  ]
}